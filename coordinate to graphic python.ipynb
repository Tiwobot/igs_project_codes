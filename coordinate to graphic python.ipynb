{
 "cells": [
  {
   "cell_type": "code",
   "execution_count": 3,
   "id": "b6ed0f76",
   "metadata": {},
   "outputs": [],
   "source": [
    "import matplotlib.pyplot as plt\n",
    "\n",
    "from mpl_toolkits.mplot3d import Axes3D"
   ]
  },
  {
   "cell_type": "code",
   "execution_count": null,
   "id": "789f29de",
   "metadata": {
    "scrolled": true
   },
   "outputs": [],
   "source": [
    "fig = plt.figure(figsize=(20,20))\n",
    "\n",
    "ax = fig.add_subplot(111, projection='3d')\n",
    "  \n",
    "coordinatesinput = open('igsdata/pointCloud/withSpace/parca10_coordinates.dat', 'r')\n",
    "Lines = coordinatesinput.readlines()\n",
    "ax.scatter(0,0,0)\n",
    "for line in Lines:\n",
    "    ax.scatter(float(line.split(\" \")[0]),float(line.split(\" \")[1]),float(line.split(\" \")[2]))"
   ]
  }
 ],
 "metadata": {
  "kernelspec": {
   "display_name": "Python 3.9.7 ('base')",
   "language": "python",
   "name": "python3"
  },
  "language_info": {
   "codemirror_mode": {
    "name": "ipython",
    "version": 3
   },
   "file_extension": ".py",
   "mimetype": "text/x-python",
   "name": "python",
   "nbconvert_exporter": "python",
   "pygments_lexer": "ipython3",
   "version": "3.9.7"
  },
  "vscode": {
   "interpreter": {
    "hash": "f557f13d7a501f0762365a77dcbf11ffbadb149a4103a6f1f169be4117180ba7"
   }
  }
 },
 "nbformat": 4,
 "nbformat_minor": 5
}
